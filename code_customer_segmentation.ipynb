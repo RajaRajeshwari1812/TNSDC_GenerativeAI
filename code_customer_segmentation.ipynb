{
  "nbformat": 4,
  "nbformat_minor": 0,
  "metadata": {
    "colab": {
      "provenance": []
    },
    "kernelspec": {
      "name": "python3",
      "display_name": "Python 3"
    },
    "language_info": {
      "name": "python"
    }
  },
  "cells": [
    {
      "cell_type": "code",
      "execution_count": null,
      "metadata": {
        "colab": {
          "base_uri": "https://localhost:8080/"
        },
        "id": "xsDEnf0Q_88j",
        "outputId": "cecec1d2-4ddc-4429-dc6e-c507856c6ee4"
      },
      "outputs": [
        {
          "output_type": "stream",
          "name": "stdout",
          "text": [
            "Epoch 1/10\n",
            "32/32 [==============================] - 2s 7ms/step - loss: 1.1069 - accuracy: 0.3200\n",
            "Epoch 2/10\n",
            "32/32 [==============================] - 0s 6ms/step - loss: 1.0927 - accuracy: 0.3740\n",
            "Epoch 3/10\n",
            "32/32 [==============================] - 0s 6ms/step - loss: 1.0886 - accuracy: 0.3770\n",
            "Epoch 4/10\n",
            "32/32 [==============================] - 0s 6ms/step - loss: 1.0804 - accuracy: 0.4360\n",
            "Epoch 5/10\n",
            "32/32 [==============================] - 0s 6ms/step - loss: 1.0743 - accuracy: 0.4460\n",
            "Epoch 6/10\n",
            "32/32 [==============================] - 0s 6ms/step - loss: 1.0705 - accuracy: 0.4300\n",
            "Epoch 7/10\n",
            "32/32 [==============================] - 0s 6ms/step - loss: 1.0570 - accuracy: 0.4600\n",
            "Epoch 8/10\n",
            "32/32 [==============================] - 0s 6ms/step - loss: 1.0502 - accuracy: 0.4710\n",
            "Epoch 9/10\n",
            "32/32 [==============================] - 0s 6ms/step - loss: 1.0448 - accuracy: 0.4850\n",
            "Epoch 10/10\n",
            "32/32 [==============================] - 0s 6ms/step - loss: 1.0263 - accuracy: 0.4830\n",
            "32/32 - 0s - loss: 1.0020 - accuracy: 0.5320 - 477ms/epoch - 15ms/step\n",
            "\n",
            "Test accuracy: 0.5320000052452087\n"
          ]
        }
      ],
      "source": [
        "import numpy as np\n",
        "import tensorflow as tf\n",
        "import warnings\n",
        "from tensorflow.keras.models import Sequential\n",
        "from tensorflow.keras.layers import Dense, SimpleRNN\n",
        "from tensorflow.keras.optimizers import Adam\n",
        "warnings.filterwarnings('ignore')\n",
        "# 1. Gather and preprocess sequential customer data\n",
        "# Replace this with your own sequential customer data preprocessing\n",
        "# Example synthetic data\n",
        "num_samples = 1000\n",
        "seq_length = 20\n",
        "num_features = 10\n",
        "customer_sequences = np.random.rand(num_samples, seq_length, num_features)\n",
        "customer_labels = np.random.randint(0, 3, size=(num_samples,)) # Three customer segments\n",
        "# 2. Define RNN architecture\n",
        "model = Sequential([\n",
        "SimpleRNN(64, input_shape=(seq_length, num_features), activation='relu'),\n",
        "Dense(32, activation='relu'),\n",
        "Dense(3, activation='softmax') # Three output classes for segmentation\n",
        "])\n",
        "# 3. Compile the model\n",
        "model.compile(optimizer=Adam(), loss='sparse_categorical_crossentropy', metrics=['accuracy'])\n",
        "# 4. Train the model\n",
        "model.fit(customer_sequences, customer_labels, epochs=10, batch_size=32)\n",
        "# 5. Evaluate the model\n",
        "loss, accuracy = model.evaluate(customer_sequences, customer_labels, verbose=2)\n",
        "print('\\nTest accuracy:', accuracy)\n",
        "\n"
      ]
    }
  ]
}